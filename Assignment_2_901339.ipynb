{
  "nbformat": 4,
  "nbformat_minor": 0,
  "metadata": {
    "colab": {
      "provenance": [],
      "authorship_tag": "ABX9TyO4bk5IcUZpDBMYU/DH5tFF",
      "include_colab_link": true
    },
    "kernelspec": {
      "name": "python3",
      "display_name": "Python 3"
    },
    "language_info": {
      "name": "python"
    }
  },
  "cells": [
    {
      "cell_type": "markdown",
      "metadata": {
        "id": "view-in-github",
        "colab_type": "text"
      },
      "source": [
        "<a href=\"https://colab.research.google.com/github/paulinebalmores/python_assignment/blob/main/Assignment_2_901339.ipynb\" target=\"_parent\"><img src=\"https://colab.research.google.com/assets/colab-badge.svg\" alt=\"Open In Colab\"/></a>"
      ]
    },
    {
      "cell_type": "code",
      "execution_count": null,
      "metadata": {
        "id": "nFpTVSCfwUsI"
      },
      "outputs": [],
      "source": []
    },
    {
      "cell_type": "markdown",
      "source": [
        "create a vehicle class with an init method having instance variables as name_of_vehicle, max_speed, average_of_vehicle\n"
      ],
      "metadata": {
        "id": "p3KlxlprwXJv"
      }
    },
    {
      "cell_type": "code",
      "source": [
        "class Vehicle:\n",
        "    def __init__(self, name_of_vehicle, max_speed, average_of_vehicle):\n",
        "        self.name_of_vehicle=name_of_vehicle\n",
        "        self.max_speed=max_speed\n",
        "        self.average_of_vehicle=average_of_vehicle"
      ],
      "metadata": {
        "id": "sx6zMyuVwYkR"
      },
      "execution_count": 1,
      "outputs": []
    },
    {
      "cell_type": "markdown",
      "source": [
        "create a child class car from the vehicle class created in Que 1, which will inherit the vehicle class. Create a method named seating_capacity which takes capacity as an argument and returns the name of the vehicle and its seating capacity.\n"
      ],
      "metadata": {
        "id": "WEixAkRawcT6"
      }
    },
    {
      "cell_type": "code",
      "source": [
        "class Car(Vehicle):\n",
        "    def seating_capacity(self, capacity):\n",
        "        return f\"The {self.name_of_vehicle} has a seating capacity of {capacity}.\""
      ],
      "metadata": {
        "id": "GxcvlFMhwd_d"
      },
      "execution_count": 2,
      "outputs": []
    },
    {
      "cell_type": "markdown",
      "source": [
        "What is multiple inheritance? write a python code to demonstrate multiple inheritance\n"
      ],
      "metadata": {
        "id": "Ec9LoAb7wht-"
      }
    },
    {
      "cell_type": "markdown",
      "source": [
        "Multiple inheritance in object-oriented programming occurs when a class inherits properties and behaviors from more than one parent class. In Python, a class can inherit from multiple base classes, allowing it to access attributes and methods from each parent class.\n"
      ],
      "metadata": {
        "id": "7SwttE9kww3C"
      }
    },
    {
      "cell_type": "code",
      "source": [
        "class Class1:\n",
        "  def test_method(self):\n",
        "    return \"This is method of Class1\"\n",
        "\n",
        "class Class2:\n",
        "  def test_method(self):\n",
        "    return \"This is method of Class2\"\n",
        "\n",
        "class Class3(Class2, Class1):\n",
        "  pass\n",
        "\n",
        "\n",
        "class_obj=Class3()\n",
        "class_obj.test_method()"
      ],
      "metadata": {
        "colab": {
          "base_uri": "https://localhost:8080/",
          "height": 35
        },
        "id": "fB8JVF2CwjiY",
        "outputId": "dc6e95e6-3444-4e05-a389-868768f783ad"
      },
      "execution_count": 4,
      "outputs": [
        {
          "output_type": "execute_result",
          "data": {
            "text/plain": [
              "'This is method of Class2'"
            ],
            "application/vnd.google.colaboratory.intrinsic+json": {
              "type": "string"
            }
          },
          "metadata": {},
          "execution_count": 4
        }
      ]
    },
    {
      "cell_type": "markdown",
      "source": [
        "Python Object-Oriented Programming Concepts\n",
        "\n",
        "1. **Class:**\n",
        "   A class is a blueprint that defines the structure and behavior of objects. It encapsulates attributes (data) and methods (functions) that represent the characteristics and actions of the objects.\n",
        "\n",
        "2. **Object:**\n",
        "   An object is an instance of a class, created from the class blueprint. It has its own set of attributes and can call methods defined in the class.\n",
        "\n",
        "3. **Attributes:**\n",
        "   Attributes are variables that belong to a class or object. They store the state of the object and represent its characteristics.\n",
        "\n",
        "4. **Methods:**\n",
        "   Methods are functions defined within a class. They represent the actions or behaviors associated with the class and its objects.\n",
        "\n",
        "5. **Constructor (init method):**\n",
        "   The `__init__` method (constructor) is a special method in Python classes that is automatically called when an object is created. It's used to initialize object attributes.\n",
        "\n",
        "6. **Inheritance:**\n",
        "   Inheritance allows a class to inherit attributes and methods from another class, enabling code reusability and the creation of specialized classes.\n",
        "\n",
        "7. **Encapsulation:**\n",
        "   Encapsulation is the concept of bundling data (attributes) and methods that operate on that data within a class, hiding the internal implementation from the outside world.\n",
        "\n",
        "8. **Polymorphism:**\n",
        "   Polymorphism allows objects to be treated as instances of their parent class, enabling the use of objects with a common interface interchangeably."
      ],
      "metadata": {
        "id": "-PrFIYgF8fd2"
      }
    },
    {
      "cell_type": "markdown",
      "source": [
        "Task 1: Create a Python Class\n",
        "Create a class called Person with the following:\n",
        "\t1.\tProperties: name, age, gender\n",
        "\t2.\tA constructor to initialize these properties.\n",
        "\t3.\tMethods: say_hello(), which prints out a greeting from the person; and is_adult(), which returns True if the person is 18 or above, and False otherwise.\n"
      ],
      "metadata": {
        "id": "HNgVhtP9xAMe"
      }
    },
    {
      "cell_type": "code",
      "source": [
        "class Person:\n",
        "    def __init__(self, name, age, gender):\n",
        "        self.__name = name\n",
        "        self.__age = age\n",
        "        self.__gender = gender\n",
        "\n",
        "    def say_hello(self):\n",
        "        print(f\"Hello, I am {self.__name}.\")\n",
        "\n",
        "    def is_adult(self):\n",
        "        return self.__age >= 18"
      ],
      "metadata": {
        "id": "KGNmQ9ke5wK3"
      },
      "execution_count": 5,
      "outputs": []
    },
    {
      "cell_type": "code",
      "source": [
        "person1 = Person(\"Pau\", 27, \"Female\")\n",
        "person1.say_hello()\n",
        "print(\"Is person1 an adult?\", person1.is_adult())\n",
        "\n",
        "person2 = Person(\"Bry\", 15, \"Male\")\n",
        "person2.say_hello()\n",
        "print(\"Is person2 an adult?\", person2.is_adult())"
      ],
      "metadata": {
        "colab": {
          "base_uri": "https://localhost:8080/"
        },
        "id": "defQueKv50Kc",
        "outputId": "3a2a7e65-4a26-4fee-ee57-57d983d908fe"
      },
      "execution_count": 10,
      "outputs": [
        {
          "output_type": "stream",
          "name": "stdout",
          "text": [
            "Hello, I am Pau.\n",
            "Is person1 an adult? True\n",
            "Hello, I am Bry.\n",
            "Is person2 an adult? False\n"
          ]
        }
      ]
    },
    {
      "cell_type": "markdown",
      "source": [],
      "metadata": {
        "id": "njvmPj_77ljZ"
      }
    },
    {
      "cell_type": "markdown",
      "source": [
        "Task 2: Implement Inheritance\n",
        "Create a subclass called Student that inherits from the Person class. The Student class should have the following additional properties:\n",
        "\t1.\tstudent_id\n",
        "\t2.\tcourse\n",
        "Create appropriate methods as you deem necessary."
      ],
      "metadata": {
        "id": "SggS3jhD6MRx"
      }
    },
    {
      "cell_type": "code",
      "source": [
        "class Student(Person):\n",
        "    def __init__(self, name, age, gender, student_id, course):\n",
        "        super().__init__(name, age, gender)\n",
        "        self.__student_id = student_id\n",
        "        self.__course = course\n",
        "\n",
        "    def display_student_info(self):\n",
        "        print(f\"Student {self._Person__name} (ID: {self.__student_id}) is enrolled in the course {self.__course}.\")\n",
        "\n"
      ],
      "metadata": {
        "id": "jofj9rF96Mtj"
      },
      "execution_count": 7,
      "outputs": []
    },
    {
      "cell_type": "code",
      "source": [
        "student1 = Student(\"Nicholai\", 20, \"Female\", \"S116655\", \"Java\")\n",
        "student1.say_hello()\n",
        "student1.display_student_info()\n",
        "\n",
        "student2 = Student(\"Kyle\", 22, \"Male\", \"S223355\", \"Python\")\n",
        "student2.say_hello()\n",
        "student2.display_student_info()"
      ],
      "metadata": {
        "colab": {
          "base_uri": "https://localhost:8080/"
        },
        "id": "Opex_5pY6VQ6",
        "outputId": "586837a2-6928-4a78-f802-9a4136181ff1"
      },
      "execution_count": 9,
      "outputs": [
        {
          "output_type": "stream",
          "name": "stdout",
          "text": [
            "Hello, I am Nicholai.\n",
            "Student Nicholai (ID: S116655) is enrolled in the course Java.\n",
            "Hello, I am David.\n",
            "Student David (ID: S223355) is enrolled in the course Python.\n"
          ]
        }
      ]
    },
    {
      "cell_type": "markdown",
      "source": [
        "Task 3; Implement Polymorphism\n",
        "Create another subclass called Teacher that also inherits from the Person class. The Teacher class should have the following additional properties:\n",
        "\t1.\tteacher_id\n",
        "\t2.\tsubject\n",
        "Ensure that the say_hello() method for the Teacher class is different from the one for the Person and Student classes. This will demonstrate polymorphism."
      ],
      "metadata": {
        "id": "GzLqAOAm7paw"
      }
    },
    {
      "cell_type": "code",
      "source": [
        "class Teacher(Person):\n",
        "    def __init__(self, name, age, gender, teacher_id, subject):\n",
        "        super().__init__(name, age, gender)\n",
        "        self.__teacher_id = teacher_id\n",
        "        self.__subject = subject\n",
        "\n",
        "    def display_teacher_info(self):\n",
        "        print(f\"Teacher {self._Person__name} (ID: {self.__teacher_id}) teaches {self.__subject}.\")\n",
        "\n",
        "    def say_hello(self):\n",
        "        print(f\"Hello, I am {self._Person__name}, your teacher.\")\n"
      ],
      "metadata": {
        "id": "Gjz6DJ6l7umf"
      },
      "execution_count": 12,
      "outputs": []
    },
    {
      "cell_type": "code",
      "source": [
        "teacher1 = Teacher(\"Mr. Hunter\", 48, \"Male\", \"T0506\", \"English\")\n",
        "teacher1.say_hello()\n",
        "teacher1.display_teacher_info()\n",
        "\n",
        "teacher2 = Teacher(\"Mrs. Minchin\", 55, \"Female\", \"T1028\", \"Mathematics\")\n",
        "teacher2.say_hello()\n",
        "teacher2.display_teacher_info()"
      ],
      "metadata": {
        "colab": {
          "base_uri": "https://localhost:8080/"
        },
        "id": "OTZY8oxh7x_P",
        "outputId": "34ec9b2d-3d0e-42c9-b7a4-9e06bd843ef0"
      },
      "execution_count": 13,
      "outputs": [
        {
          "output_type": "stream",
          "name": "stdout",
          "text": [
            "Hello, I am Mr. Hunter, your teacher.\n",
            "Teacher Mr. Hunter (ID: T0506) teaches English.\n",
            "Hello, I am Mrs. Minchin, your teacher.\n",
            "Teacher Mrs. Minchin (ID: T1028) teaches Mathematics.\n"
          ]
        }
      ]
    },
    {
      "cell_type": "markdown",
      "source": [
        "Task 4: Encapsulation\n",
        "Make the age property in the Person class private and create a method to allow access to it. This is an example of encapsulation, as it restricts direct access to the age property.\n"
      ],
      "metadata": {
        "id": "O95EVc6c7_-O"
      }
    },
    {
      "cell_type": "code",
      "source": [
        "class Person:\n",
        "    def __init__(self, name, age, gender):\n",
        "        self.__name = name\n",
        "        self.__age = age  # Encapsulation: age is a private attribute\n",
        "        self.__gender = gender\n",
        "\n",
        "    def say_hello(self):\n",
        "        print(f\"Hello, I am {self.__name}.\")\n",
        "\n",
        "    def is_adult(self):\n",
        "        return self.__age >= 18\n",
        "\n",
        "    def get_age(self):\n",
        "        return self.__age"
      ],
      "metadata": {
        "id": "Ys22tc7f8APr"
      },
      "execution_count": 15,
      "outputs": []
    },
    {
      "cell_type": "code",
      "source": [
        "person1 = Person(\"Pau\", 27, \"Female\")\n",
        "person1.say_hello()\n",
        "print(\"Is person1 an adult?\", person1.is_adult())\n",
        "print(\"Person1's age:\", person1.get_age())\n",
        "\n",
        "person2 = Person(\"Bry\", 15, \"Male\")\n",
        "person2.say_hello()\n",
        "print(\"Is person2 an adult?\", person2.is_adult())\n",
        "print(\"Person2's age:\", person2.get_age())\n"
      ],
      "metadata": {
        "colab": {
          "base_uri": "https://localhost:8080/"
        },
        "id": "rEDNI61X8G2E",
        "outputId": "b64f857c-193b-4eb3-8799-750593c6549b"
      },
      "execution_count": 17,
      "outputs": [
        {
          "output_type": "stream",
          "name": "stdout",
          "text": [
            "Hello, I am Pau.\n",
            "Is person1 an adult? True\n",
            "Person1's age: 27\n",
            "Hello, I am Bry.\n",
            "Is person2 an adult? False\n",
            "Person2's age: 15\n"
          ]
        }
      ]
    }
  ]
}